{
 "cells": [
  {
   "cell_type": "markdown",
   "metadata": {},
   "source": [
    "# French Motor Third-Party Liability Claims\n",
    "# Problem set 3 analysis"
   ]
  },
  {
   "cell_type": "markdown",
   "metadata": {},
   "source": [
    "## Introduction\n",
    "This notebook contains the analysis for the French Motor Third-Party Liability Claims dataset. \n",
    "We aim to improve the risk model presented in\n",
    "https://glum.readthedocs.io/en/latest/tutorials/glm_french_motor_tutorial/glm_french_motor.html# \n",
    "and learn how to work with model pipelines."
   ]
  },
  {
   "cell_type": "markdown",
   "metadata": {},
   "source": [
    "## Background:\n",
    "Insurance claims are requests made by a policy holder to an insurance company for compensation in the event of a covered loss. When modeling these claims, the goal is often to estimate, per policy, the total claim amount per exposure unit. (i.e. number of claims  average amount per claim per year). This amount is also referred to as the pure premium.\n",
    "\n",
    "Two approaches for modeling this value are:\n",
    "\n",
    "- Modeling the total claim amount per exposure directly\n",
    "- Modeling number of claims and claim amount separately with a frequency and a severity model\n",
    "\n",
    "In this notebook, we will start with the Tweedie model for pure premium as the benchmark model. We will then improve the parametric model by adding more flexibility and applying LGBM Regressor. Finally, we also train a LGBM frequency and severity model and compare the fit relative to the other\n",
    "models."
   ]
  },
  {
   "cell_type": "markdown",
   "metadata": {},
   "source": [
    "## Set up"
   ]
  },
  {
   "cell_type": "code",

   "execution_count": 28,
   "metadata": {},
   "outputs": [],
   "source": [
    "# Problem set 3 analysis\n",
    "import matplotlib.pyplot as plt\n",
    "import numpy as np\n",
    "import pandas as pd\n",
